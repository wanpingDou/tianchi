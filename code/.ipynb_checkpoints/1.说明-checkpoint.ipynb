{
 "cells": [
  {
   "cell_type": "markdown",
   "metadata": {},
   "source": [
    "# EDA\n",
    "\n",
    "数据探索\n",
    "\n",
    "# xgb\n",
    "\n",
    "xgb构造的特征未考虑目标泄露问题，在XGB上表现结果不错\n",
    "\n",
    "# catboost\n",
    "\n",
    "在xgb特征基础上，考虑目标泄露，重构部分特征\n",
    "\n",
    "\n",
    "# 其他\n",
    "\n",
    "- 虽然在xgb和catboost上各自表现不是最好，但是做融合，简单平均，结果到达466分。\n",
    "\n",
    "- 调参过程繁琐，但是调参过程都几近相同。\n",
    "\n",
    "# 待做\n",
    "\n",
    "- 在catboost构造的特征的基础上重新跑XGB和LGBM等模型、对此再做模型融合看效果。"
   ]
  }
 ],
 "metadata": {
  "kernelspec": {
   "display_name": "Python 3",
   "language": "python",
   "name": "python3"
  },
  "language_info": {
   "codemirror_mode": {
    "name": "ipython",
    "version": 3
   },
   "file_extension": ".py",
   "mimetype": "text/x-python",
   "name": "python",
   "nbconvert_exporter": "python",
   "pygments_lexer": "ipython3",
   "version": "3.6.5"
  },
  "latex_envs": {
   "LaTeX_envs_menu_present": true,
   "autoclose": false,
   "autocomplete": true,
   "bibliofile": "biblio.bib",
   "cite_by": "apalike",
   "current_citInitial": 1,
   "eqLabelWithNumbers": true,
   "eqNumInitial": 1,
   "hotkeys": {
    "equation": "Ctrl-E",
    "itemize": "Ctrl-I"
   },
   "labels_anchors": false,
   "latex_user_defs": false,
   "report_style_numbering": false,
   "user_envs_cfg": false
  },
  "toc": {
   "base_numbering": 1,
   "nav_menu": {},
   "number_sections": true,
   "sideBar": true,
   "skip_h1_title": false,
   "title_cell": "Table of Contents",
   "title_sidebar": "Contents",
   "toc_cell": false,
   "toc_position": {},
   "toc_section_display": true,
   "toc_window_display": false
  }
 },
 "nbformat": 4,
 "nbformat_minor": 2
}
